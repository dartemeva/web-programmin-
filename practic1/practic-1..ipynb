{
 "cells": [
  {
   "cell_type": "markdown",
   "metadata": {},
   "source": [
    "Практическая работа №1"
   ]
  },
  {
   "cell_type": "raw",
   "metadata": {},
   "source": [
    "Задание 1"
   ]
  },
  {
   "cell_type": "markdown",
   "metadata": {},
   "source": [
    "В первом задании я создала 2 файла, имеющие референсные ссыли друг на друга. Структура файла выглядит следующим образом:\n",
    "```\n",
    "myproject/\n",
    "├── about\n",
    "│   └── aboutme.html\n",
    "└── index.html\n",
    "```"
   ]
  },
  {
   "cell_type": "markdown",
   "metadata": {},
   "source": [
    "<!DOCTYPE html>\n",
    "<html>\n",
    "   <head>\n",
    "        <title>index.html</title>\n",
    "   </head>\n",
    "   <body>\n",
    "      <p>\n",
    "         <b>\n",
    "            <a href=\"file:///C:/Users/Кадария/Desktop/my%20project/about/aboutme.html\">Прямая ссылка на aboutme.html</a>\n",
    "            <a href=\"C:/Users/Кадария/Desktop\\my project/about/aboutme.html\">Абсолютное обращение aboutme.html </a>\n",
    "         </b>\n",
    "      </p>\n",
    "   </body>\n",
    "</html>"
   ]
  },
  {
   "cell_type": "markdown",
   "metadata": {},
   "source": [
    "В строке номер 9 и 10 находятся две ссылки, первая является относительной, а вторая абсолютной.\n",
    "Аналогичное действие проделываем и с файлом aboutme.html"
   ]
  },
  {
   "cell_type": "markdown",
   "metadata": {},
   "source": [
    "<!DOCTYPE html>\n",
    "<html>\n",
    "   <head>\n",
    "      <title>aboutme.html</title>\n",
    "   </head>\n",
    "   <body>\n",
    "      <p>\n",
    "         <b>\n",
    "            <a href=\"file:///C:/Users/Кадария/Desktop/my%20project/index.html\">Прямая ссылка на index.html</a>\n",
    "            <a href=\"C:/Users/Кадария/Desktop/my project/index.html\">Абсолютное обращение index.html </a>\n",
    "         </b>\n",
    "      </p>\n",
    "   </body>\n",
    "</html>"
   ]
  },
  {
   "cell_type": "markdown",
   "metadata": {},
   "source": [
    "Задание 2"
   ]
  },
  {
   "cell_type": "markdown",
   "metadata": {},
   "source": [
    "Необходимо подключиться по telnet к http://wikipedia.org и отправить запрос:\n",
    "\n",
    "GET /wiki/страница HTTP/1.1\n",
    "Host: ru.wikipedia.org\n",
    "User-Agent: Mozilla/5.0 (X11; U; Linux i686; ru; rv:1.9b5) Gecko/2008050509 Firefox/3.0b5\n",
    "Accept: text/html\n",
    "Connection: close\n",
    "(пустая строка)\n",
    "\n"
   ]
  },
  {
   "cell_type": "markdown",
   "metadata": {},
   "source": [
    "Получаем ответ:\n",
    "HTTP/1.1 301 TLS Redirect\n",
    "Date: Sat, 29 Sep 2018 06:13:29 GMT\n",
    "Server: Varnish\n",
    "X-Varnish: 898756108\n",
    "X-Cache: cp3040 int\n",
    "X-Cache-Status: int-front\n",
    "Set-Cookie: WMF-Last-Access=29-Sep-2018;Path=/;HttpOnly;secure;Expires=Wed, 31 Oct 2018 00:00:00 GMT\n",
    "Set-Cookie: WMF-Last-Access-Global=29-Sep-2018;Path=/;Domain=.wikipedia.org;HttpOnly;secure;Expires=Wed, 31 Oct 2018 00:00:00 GMT\n",
    "X-Client-IP: 212.193.94.40\n",
    "Location: https://ru.wikipedia.org/wiki/страница\n",
    "Content-Length: 0\n",
    "Connection: close"
   ]
  },
  {
   "cell_type": "markdown",
   "metadata": {},
   "source": [
    "На первой строчке мы видим код ответа – успешен он или нет.  Код 301 TLS Redirect означает, что запрошенный ресурс был перемещен в другое место. Новое расположение находится в строке Location.  На второй строчке находится дата(Date) запроса.  X-Client-IP – IP-адрес клиента. Поскольку на наш запрос ответа положительного не поступило, то и указанная длина ответа в строке Content-Length равна 0. В последней строке говорится о том, что соединение закрыто."
   ]
  },
  {
   "cell_type": "markdown",
   "metadata": {},
   "source": [
    "Задание 3"
   ]
  },
  {
   "cell_type": "markdown",
   "metadata": {},
   "source": [
    "Необходимо отправить запросы на http://httpbin.org, проанализировать ответ и код состояния."
   ]
  },
  {
   "cell_type": "markdown",
   "metadata": {},
   "source": [
    "Первый запрос:\n",
    "GET /ip HTTP/1.1\n",
    "Host: httpbin.org\n",
    "Accept: */*"
   ]
  },
  {
   "cell_type": "markdown",
   "metadata": {},
   "source": [
    "Получаем ответ:\n",
    "\n",
    "HTTP/1.1 200 OK\n",
    "Connection: keep-alive\n",
    "Server: gunicorn/19.9.0\n",
    "Date: Sat, 29 Sep 2018 06:26:24 GMT\n",
    "Content-Type: application/json\n",
    "Content-Length: 32\n",
    "Access-Control-Allow-Origin: *\n",
    "Access-Control-Allow-Credentials: true\n",
    "Via: 1.1 vegur\n",
    "\n",
    "{\n",
    "   \"origin\": \"212.193.94.40\"\n",
    "                            }"
   ]
  },
  {
   "cell_type": "markdown",
   "metadata": {},
   "source": [
    "Код запроса 200 ОК означает, что соединение успешно. Версия протокола HTTP 1.1. Мы запрашивали ip-адрес  сервера, который указан в конце запроса, длина которого(Content-Length) равна 32. Соединение keep-alive открытое, а также постоянное. До тех пор пока клиент не прервет его, статус сохранится. В строке Content-type говорится о типе контента"
   ]
  },
  {
   "cell_type": "markdown",
   "metadata": {},
   "source": [
    "Запрос номер два:\n",
    "\n",
    "GET /get?foo=bar&1=2&2/0&error=True HTTP/1.1\n",
    "Host: httpbin.org\n",
    "Accept: */*"
   ]
  },
  {
   "cell_type": "markdown",
   "metadata": {},
   "source": [
    "Получаем ответ:\n",
    "\n",
    "HTTP/1.1 200 OK\n",
    "Connection: keep-alive\n",
    "Server: gunicorn/19.9.0\n",
    "Date: Sat, 29 Sep 2018 06:29:17 GMT\n",
    "Content-Type: application/json\n",
    "Content-Length: 282\n",
    "Access-Control-Allow-Origin: *\n",
    "Access-Control-Allow-Credentials: true\n",
    "Via: 1.1 vegur\n",
    "\n",
    "{\n",
    "   \"args\": {\n",
    "                \"1\": \"2\",\n",
    "                              \"2/0\": \"\",\n",
    "                                             \"error\": \"True\",\n",
    "                                                                  \"foo\": \"bar\"\n",
    "                                                                                },\n",
    "                                                                                     \"headers\": {\n",
    "                                                                                                     \"Accept\": \"*/*\",\n",
    "                                                                                                                          \"Connection\": \"close\",\n",
    "                             \"Host\": \"httpbin.org\"\n",
    "                                                    },\n",
    "                                                         \"origin\": \"212.193.94.40\",\n",
    "                                                                                      \"url\": \"http://httpbin.org/get?foo=bar&1=2&2%2F0&error=True\"\n",
    "                          }"
   ]
  },
  {
   "cell_type": "markdown",
   "metadata": {},
   "source": [
    "Код запроса 200 ОК означает, что соединение успешно. Версия протокола HTTP 1.1. Мы запрашивали доступ к ресурсу с помощью команды get, и получили ответ, который указан в конце запроса, длина которого(Content-Length) равна 282. Соединение keep-alive открытое, а также постоянное. До тех пор пока клиент не прервет его, статус сохранится. В строке Content-type говорится о типе данных контента."
   ]
  },
  {
   "cell_type": "markdown",
   "metadata": {},
   "source": [
    "Следующий запрос:\n",
    "\n",
    "POST /post HTTP/1.1\n",
    "Host: httpbin.org\n",
    "Accept: */*\n",
    "Content-Length: 29\n",
    "Content-Type: application/x-www-form-urlencoded\n",
    "\n",
    "foo=bar&1=2&2%2F0=&error=True"
   ]
  },
  {
   "cell_type": "markdown",
   "metadata": {},
   "source": [
    "                             HTTP/1.1 200 OK\n",
    "Connection: keep-alive\n",
    "Server: gunicorn/19.9.0\n",
    "Date: Sat, 29 Sep 2018 06:33:25 GMT\n",
    "Content-Type: application/json\n",
    "Content-Length: 404\n",
    "Access-Control-Allow-Origin: *\n",
    "Access-Control-Allow-Credentials: true\n",
    "Via: 1.1 vegur\n",
    "\n",
    "{\n",
    "   \"args\": {},\n",
    "                 \"data\": \"\",\n",
    "                               \"files\": {},\n",
    "                                              \"form\": {\n",
    "                                                           \"1\": \"2\",\n",
    "                                                                         \"2/0\": \"\",\n",
    "                                                                                        \"error\": \"True\",\n",
    "                                                                                                             \"foo\": \"bar\"\n",
    "   },\n",
    "        \"headers\": {\n",
    "                        \"Accept\": \"*/*\",\n",
    "                                             \"Connection\": \"close\",\n",
    "                                                                        \"Content-Length\": \"29\",\n",
    "                                                                                                    \"Content-Type\": \"application/x-www-form-urlencoded\",\n",
    "                                     \"Host\": \"httpbin.org\"\n",
    "                                                            },\n",
    "                                                                 \"json\": null,\n",
    "                                                                                 \"origin\": \"212.193.94.40\",\n",
    "                                                                                                              \"url\": \"http://httpbin.org/post\"\n",
    "                      }"
   ]
  },
  {
   "cell_type": "markdown",
   "metadata": {},
   "source": [
    "При помощи функции post создаем новый ресурс с контентом foo=bar&1=2&2%2F0=&error=True.\n",
    "И получаем положительный ответ с кодом 200 ОК.\n",
    "Connection: keep-alive соединение непрерывное и открытое до момента разрыва клиентом\n",
    "Server: имя сервера и его версия\n",
    "Date: дата запроса\n",
    "Далее тип контента application/json в ответе запроса и его длина 404\n",
    "VIA:  1.1 vegur версия протокола и версия прокси-сервера\n"
   ]
  },
  {
   "cell_type": "markdown",
   "metadata": {},
   "source": [
    "Запрос номер 4:\n",
    "\n",
    "GET /cookies/set?country=Ru HTTP/1.1\n",
    "Host: httpbin.org\n",
    "Accept: */*"
   ]
  },
  {
   "cell_type": "markdown",
   "metadata": {},
   "source": [
    "HTTP/1.1 302 FOUND\n",
    "Connection: keep-alive\n",
    "Server: gunicorn/19.9.0\n",
    "Date: Sat, 29 Sep 2018 06:36:12 GMT\n",
    "Content-Type: text/html; charset=utf-8\n",
    "Content-Length: 223\n",
    "Location: /cookies\n",
    "Set-Cookie: country=Ru; Path=/\n",
    "Access-Control-Allow-Origin: *\n",
    "Access-Control-Allow-Credentials: true\n",
    "Via: 1.1 vegur\n",
    "\n",
    "<!DOCTYPE HTML PUBLIC \"-//W3C//DTD HTML 3.2 Final//EN\">\n",
    "                                                       <title>Redirecting...</title>\n",
    "                                                                                    <h1>Redirecting...</h1>\n",
    "                                                                                                           <p>You should be redirected automatically to target URL: <a href=\"/cookies\">/cookies</a>.  If not click the link."
   ]
  },
  {
   "cell_type": "markdown",
   "metadata": {},
   "source": [
    "Код запроса 302 FOUND  означает, что данные перенаправлены. Версия протокола HTTP 1.1. Мы запрашивали доступ к ресурсу с помощью команды get, что получить cookies. Ответ, который указан в конце запроса, длина которого(Content-Length) равна 232. Соединение keep-alive открытое, а также постоянное. До тех пор пока клиент не прервет его, статус сохранится. В строке Content-type говорится о типе данных контента text/html  текстовый разметки html, charset=utf-8 способ представления сущности. В третьей строке Server – название сервера и его версия 19.9.0. "
   ]
  },
  {
   "cell_type": "markdown",
   "metadata": {},
   "source": [
    "Запрос номер 5:\n",
    "\n",
    "GET /cookies HTTP/1.1\n",
    "Host: httpbin.org\n",
    "Accept: */*"
   ]
  },
  {
   "cell_type": "markdown",
   "metadata": {},
   "source": [
    "HTTP/1.1 200 OK\n",
    "Connection: keep-alive\n",
    "Server: gunicorn/19.9.0\n",
    "Date: Sat, 29 Sep 2018 06:37:38 GMT\n",
    "Content-Type: application/json\n",
    "Content-Length: 20\n",
    "Access-Control-Allow-Origin: *\n",
    "Access-Control-Allow-Credentials: true\n",
    "Via: 1.1 vegur\n",
    "\n",
    "{\n",
    "   \"cookies\": {}\n",
    "                }"
   ]
  },
  {
   "cell_type": "markdown",
   "metadata": {},
   "source": [
    "Код ответа 200 ОК – соединение успешно\n",
    "Connection: keep-alive соединение непрерывное и открытое до момента разрыва клиентом\n",
    "Server: имя сервера и его версия\n",
    "Далее тип контента application/json  в ответе запроса и его длина 20\n",
    "VIA:  1.1 vegur версия протокола и версия прокси-сервера\n"
   ]
  },
  {
   "cell_type": "markdown",
   "metadata": {},
   "source": [
    "Последний запрос:\n",
    "\n",
    "GET /redirect/4 HTTP/1.1\n",
    "Host: httpbin.org\n",
    "Accept: */*"
   ]
  },
  {
   "cell_type": "code",
   "execution_count": null,
   "metadata": {},
   "outputs": [],
   "source": [
    "HTTP/1.1 302 FOUND\n",
    "Connection: keep-alive\n",
    "Server: gunicorn/19.9.0\n",
    "Date: Sat, 29 Sep 2018 06:38:55 GMT\n",
    "Content-Type: text/html; charset=utf-8\n",
    "Content-Length: 247\n",
    "Location: /relative-redirect/3\n",
    "Access-Control-Allow-Origin: *\n",
    "Access-Control-Allow-Credentials: true\n",
    "Via: 1.1 vegur\n",
    "\n",
    "<!DOCTYPE HTML PUBLIC \"-//W3C//DTD HTML 3.2 Final//EN\">\n",
    "                                                       <title>Redirecting...</title>\n",
    "                                                                                    <h1>Redirecting...</h1>\n",
    "                                                                                                           <p>You should be redirected automatically to target URL: <a href=\"/relative-redirect/3\">/relative-redirect/3</a>.  If not click the link."
   ]
  },
  {
   "cell_type": "markdown",
   "metadata": {},
   "source": [
    "Код ответа 302 FOUND –  ресурс перенаправлен \n",
    "Connection: keep-alive соединение непрерывное и открытое до момента разрыва клиентом\n",
    "Server: имя сервера и его версия\n",
    "Date: дата запроса\n",
    "Далее тип контента текстовый разметки html в ответе запроса и его длина 247\n",
    "VIA:  1.1 vegur версия протокола и версия прокси-сервера\n"
   ]
  },
  {
   "cell_type": "markdown",
   "metadata": {},
   "source": [
    "Задание 4"
   ]
  },
  {
   "cell_type": "markdown",
   "metadata": {},
   "source": [
    "Создадим HTML-форму с полями firstname, lastname, group, message(textarea) и myimg(file) с action=\"http://httpbin.org/post\" method=\"POST\" enctype=\"multipart/form-data\".\n"
   ]
  },
  {
   "cell_type": "markdown",
   "metadata": {},
   "source": [
    "<!DOCTYPE html>\n",
    "<html>\n",
    "  <head>\n",
    "     <title>HTML форма</title>\n",
    "  </head>\n",
    "    <body>\n",
    "      <form action=\"http://httpbin.org/post\" method=\"POST\" enctype=\"multipart/form-data\">\n",
    "       <fieldset>\n",
    "            <h2>Контактная информация</h2>\n",
    "            <p><input type=\"text\" name=\"firstname\"></p>\n",
    "            <p><input type=\"text\" name=\"lastname\"></p>\n",
    "            <p><input type=\"text\" name =\"group\"></p>\n",
    "            <p><textarea></textarea></p>\n",
    "            <input name=\"myimg\" type=\"image\"/>\n",
    "            <p><button>Send</button></p>\n",
    "       </fieldset>\n",
    "      </form>\n",
    "    </body>\n",
    "</html>"
   ]
  },
  {
   "cell_type": "markdown",
   "metadata": {},
   "source": [
    "Отправим какой-нибудь запрос по протоколу HTTP на сайт httpbin.org. Например, номер группы. "
   ]
  },
  {
   "cell_type": "markdown",
   "metadata": {},
   "source": [
    "{\n",
    "  \"args\": {}, \n",
    "  \"data\": \"\", \n",
    "  \"files\": {}, \n",
    "  \"form\": {\n",
    "    \"firstname\": \"\", \n",
    "    \"group\": \"135\", \n",
    "    \"lastname\": \"\", \n",
    "    \"myimg\": \"\"\n",
    "  }, \n",
    "  \"headers\": {\n",
    "    \"Accept\": \"text/html,application/xhtml+xml,application/xml;q=0.9,image/webp,image/apng,*/*;q=0.8\", \n",
    "    \"Accept-Encoding\": \"gzip, deflate\", \n",
    "    \"Accept-Language\": \"ru,en;q=0.9\", \n",
    "    \"Cache-Control\": \"max-age=0\", \n",
    "    \"Connection\": \"close\", \n",
    "    \"Content-Length\": \"475\", \n",
    "    \"Content-Type\": \"multipart/form-data; boundary=----WebKitFormBoundarytnBMPSFYgzBoMQTo\", \n",
    "    \"Host\": \"httpbin.org\", \n",
    "    \"Origin\": \"null\", \n",
    "    \"Upgrade-Insecure-Requests\": \"1\", \n",
    "    \"User-Agent\": \"Mozilla/5.0 (Windows NT 10.0; WOW64) AppleWebKit/537.36 (KHTML, like Gecko) Chrome/67.0.3396.103 YaBrowser/18.7.1.920 Yowser/2.5 Safari/537.36\"\n",
    "  }, \n",
    "  \"json\": null, \n",
    "  \"origin\": \"212.193.94.40\", \n",
    "  \"url\": \"http://httpbin.org/post\"\n",
    "}"
   ]
  },
  {
   "cell_type": "markdown",
   "metadata": {},
   "source": [
    "Получаем ответ с сайта в формате json, в котором мы видим поля формы, созданные мной в ней. Как мы видим, введенная информация тоже присутствует. "
   ]
  }
 ],
 "metadata": {
  "kernelspec": {
   "display_name": "Python 3",
   "language": "python",
   "name": "python3"
  },
  "language_info": {
   "codemirror_mode": {
    "name": "ipython",
    "version": 3
   },
   "file_extension": ".py",
   "mimetype": "text/x-python",
   "name": "python",
   "nbconvert_exporter": "python",
   "pygments_lexer": "ipython3",
   "version": "3.6.4"
  }
 },
 "nbformat": 4,
 "nbformat_minor": 2
}
